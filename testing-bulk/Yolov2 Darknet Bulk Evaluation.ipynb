{
 "cells": [
  {
   "cell_type": "code",
   "execution_count": 116,
   "id": "f323fb62",
   "metadata": {},
   "outputs": [],
   "source": [
    "%matplotlib inline\n",
    "\n",
    "from matplotlib import pyplot as plt\n",
    "import cv2 as cv\n",
    "import numpy as np\n",
    "from mediapipe.framework.formats import landmark_pb2\n",
    "from matplotlib import image as mp_image\n",
    "from IPython.display import Image\n",
    "\n",
    "import time\n",
    "import os\n",
    "import json"
   ]
  },
  {
   "cell_type": "code",
   "execution_count": 38,
   "id": "8d21c625",
   "metadata": {},
   "outputs": [],
   "source": [
    "classes = open('/home/rdr2143/darknet/data/coco.names').read().strip().split('\\n')"
   ]
  },
  {
   "cell_type": "code",
   "execution_count": 39,
   "id": "5294f9b7",
   "metadata": {},
   "outputs": [],
   "source": [
    "net = cv.dnn.readNetFromDarknet('/home/rdr2143/darknet/cfg/yolov2.cfg', '/home/rdr2143/darknet/yolov2.weights')\n",
    "# net.setPreferableBackend(cv.dnn.DNN_BACKEND_OPENCV)\n",
    "ln = net.getLayerNames()\n",
    "ln = [ln[i - 1] for i in net.getUnconnectedOutLayers()]"
   ]
  },
  {
   "cell_type": "code",
   "execution_count": 40,
   "id": "df06460b",
   "metadata": {},
   "outputs": [],
   "source": [
    "def get_image_blob_as_input(file_path):\n",
    "    img = cv.imread(file_path)\n",
    "    return cv.dnn.blobFromImage(img, 1/255.0, (416, 416), swapRB=True, crop=False)"
   ]
  },
  {
   "cell_type": "code",
   "execution_count": 87,
   "id": "806a4635",
   "metadata": {},
   "outputs": [],
   "source": []
  },
  {
   "cell_type": "code",
   "execution_count": 41,
   "id": "f08117e5",
   "metadata": {},
   "outputs": [],
   "source": [
    "def predict(net, ln, blob):\n",
    "    net.setInput(blob)\n",
    "    return net.forward(ln)"
   ]
  },
  {
   "cell_type": "code",
   "execution_count": 180,
   "id": "c4f96871",
   "metadata": {},
   "outputs": [],
   "source": [
    "def get_number_of_people_detected(outputs):\n",
    "    count = 0\n",
    "    for output in outputs:\n",
    "        for detection in output:\n",
    "            scores = detection[5:]\n",
    "            classID = np.argmax(scores)\n",
    "            confidence = scores[classID]\n",
    "            if confidence > 0:\n",
    "                print(confidence, classID)\n",
    "            if confidence > 0.25 and classID == 0:\n",
    "                count += 1\n",
    "    return count\n",
    "\n",
    "def run_inference_and_get_count(images):\n",
    "    c = 0\n",
    "    data = {}\n",
    "    for i, each_image in enumerate(images):\n",
    "        if i % 50 == 0:\n",
    "            print(f'Completed: {i}')\n",
    "        blob = get_image_blob_as_input(each_image)\n",
    "        outputs = predict(net, ln, blob)\n",
    "        temp = get_number_of_people_detected(outputs)\n",
    "        data[each_image] = temp\n",
    "        c += temp\n",
    "    return c, data"
   ]
  },
  {
   "cell_type": "code",
   "execution_count": 122,
   "id": "0a56c618",
   "metadata": {},
   "outputs": [],
   "source": [
    "def infer_and_write(name, patched_images, og_images):\n",
    "    patched_people, patched_data = run_inference_and_get_count(patched_images)\n",
    "    og_people, og_data = run_inference_and_get_count(og_images)\n",
    "    \n",
    "    print(f'Converage ratio: {patched_people/og_people * 100}')\n",
    "    return patched_data, patched_people, og_data, og_people\n",
    "\n",
    "def write_to_files(name, og_data, patched_data):\n",
    "    with open(name+\"_patched.json\", \"w\") as p_results:\n",
    "        p_results.write(json.dumps(patched_data))\n",
    "\n",
    "    with open(name+\"_og.json\", \"w\") as og_results:\n",
    "        og_results.write(json.dumps(og_data))"
   ]
  },
  {
   "cell_type": "code",
   "execution_count": 126,
   "id": "dde837c7",
   "metadata": {},
   "outputs": [
    {
     "name": "stdout",
     "output_type": "stream",
     "text": [
      "Completed: 0\n",
      "Completed: 50\n",
      "Completed: 0\n",
      "Completed: 50\n",
      "Converage ratio: 58.51063829787234\n"
     ]
    }
   ],
   "source": [
    "OG_BASE = '/home/rdr2143/inria-adv-dataset/single-failed-v2-pose/og/'\n",
    "PATCHED_BASE = '/home/rdr2143/inria-adv-dataset/single-failed-v2-pose/patched/'\n",
    "og_images = [OG_BASE + x for x in os.listdir(OG_BASE)]\n",
    "patched_images = [PATCHED_BASE + x for x in os.listdir(PATCHED_BASE)]\n",
    "patched_data, patched_people, og_data, og_people = infer_and_write(\"pose_results_v1\", patched_images, og_images)"
   ]
  },
  {
   "cell_type": "code",
   "execution_count": 130,
   "id": "9d365e7e",
   "metadata": {},
   "outputs": [],
   "source": [
    "write_to_files(\"pose_results_v1\", og_data, patched_data)"
   ]
  },
  {
   "cell_type": "code",
   "execution_count": 128,
   "id": "59f7c667",
   "metadata": {},
   "outputs": [],
   "source": [
    "def get_mismatches(patched_data, og_data):\n",
    "    transformed_patched_data = {}\n",
    "    for k, v in patched_data.items():\n",
    "        transformed_patched_data[str(k.split(\"/\")[-1].split(\"_\")[0])] = v\n",
    "    \n",
    "    mismatches = []\n",
    "    for k, v in og_data.items():\n",
    "        label = str(k.split(\"/\")[-1].split(\"_\")[0])\n",
    "        if label in transformed_patched_data:\n",
    "            diff = abs(transformed_patched_data[label] - v)\n",
    "            if diff:\n",
    "                mismatches.append(k)\n",
    "            \n",
    "    return mismatches"
   ]
  },
  {
   "cell_type": "code",
   "execution_count": 132,
   "id": "2a42604a",
   "metadata": {},
   "outputs": [
    {
     "name": "stdout",
     "output_type": "stream",
     "text": [
      "Completed: 0\n",
      "Completed: 50\n",
      "Completed: 0\n",
      "Completed: 50\n",
      "Converage ratio: 47.87234042553192\n"
     ]
    }
   ],
   "source": [
    "OG_BASE_r = '/home/rdr2143/inria-adv-dataset/single-failed-v2-regular/og/'\n",
    "PATCHED_BASE_r = '/home/rdr2143/inria-adv-dataset/single-failed-v2-regular/patched/'\n",
    "og_images_r = [OG_BASE_r + x for x in os.listdir(OG_BASE_r)]\n",
    "patched_images_r = [PATCHED_BASE_r + x for x in os.listdir(PATCHED_BASE_r)]\n",
    "patched_data_r, patched_people_r, og_data_r, og_people_r = infer_and_write(\"regular_results_v1\", patched_images_r, og_images_r)"
   ]
  },
  {
   "cell_type": "code",
   "execution_count": 141,
   "id": "cbbafdf5",
   "metadata": {},
   "outputs": [],
   "source": [
    "# #Good examples:\n",
    "# from IPython.display import Image as IpythonImage\n",
    "# # IpythonImage(filename='/home/rdr2143/inria-adv-dataset/single-failed-patched/patched/29_patched_img.jpg')\n",
    "# # IpythonImage(filename='/home/rdr2143/inria-adv-dataset/patched/103_patched_img.jpg') \n",
    "# IpythonImage(filename='/home/rdr2143/adversarial-yolo/inria/Train/pos/crop001017.png') "
   ]
  },
  {
   "cell_type": "code",
   "execution_count": 182,
   "id": "4748fd2d",
   "metadata": {},
   "outputs": [
    {
     "name": "stdout",
     "output_type": "stream",
     "text": [
      "/home/rdr2143/inria-adv-dataset/single-failed-v2-regular/patched/10_patched_img.jpg\n",
      "/home/rdr2143/inria-adv-dataset/single-failed-v2-regular/patched/34_patched_img.jpg\n",
      "/home/rdr2143/inria-adv-dataset/single-failed-v2-regular/patched/85_patched_img.jpg\n",
      "/home/rdr2143/inria-adv-dataset/single-failed-v2-regular/patched/39_patched_img.jpg\n",
      "/home/rdr2143/inria-adv-dataset/single-failed-v2-regular/patched/31_patched_img.jpg\n",
      "/home/rdr2143/inria-adv-dataset/single-failed-v2-regular/patched/41_patched_img.jpg\n",
      "/home/rdr2143/inria-adv-dataset/single-failed-v2-regular/patched/5_patched_img.jpg\n",
      "/home/rdr2143/inria-adv-dataset/single-failed-v2-regular/patched/54_patched_img.jpg\n",
      "/home/rdr2143/inria-adv-dataset/single-failed-v2-regular/patched/22_patched_img.jpg\n",
      "/home/rdr2143/inria-adv-dataset/single-failed-v2-regular/patched/27_patched_img.jpg\n",
      "/home/rdr2143/inria-adv-dataset/single-failed-v2-regular/patched/4_patched_img.jpg\n",
      "/home/rdr2143/inria-adv-dataset/single-failed-v2-regular/patched/44_patched_img.jpg\n",
      "/home/rdr2143/inria-adv-dataset/single-failed-v2-regular/patched/67_patched_img.jpg\n",
      "/home/rdr2143/inria-adv-dataset/single-failed-v2-regular/patched/73_patched_img.jpg\n",
      "/home/rdr2143/inria-adv-dataset/single-failed-v2-regular/patched/69_patched_img.jpg\n",
      "/home/rdr2143/inria-adv-dataset/single-failed-v2-regular/patched/7_patched_img.jpg\n",
      "/home/rdr2143/inria-adv-dataset/single-failed-v2-regular/patched/15_patched_img.jpg\n",
      "/home/rdr2143/inria-adv-dataset/single-failed-v2-regular/patched/1_patched_img.jpg\n",
      "/home/rdr2143/inria-adv-dataset/single-failed-v2-regular/patched/17_patched_img.jpg\n",
      "/home/rdr2143/inria-adv-dataset/single-failed-v2-regular/patched/71_patched_img.jpg\n",
      "/home/rdr2143/inria-adv-dataset/single-failed-v2-regular/patched/89_patched_img.jpg\n",
      "/home/rdr2143/inria-adv-dataset/single-failed-v2-regular/patched/38_patched_img.jpg\n",
      "/home/rdr2143/inria-adv-dataset/single-failed-v2-regular/patched/49_patched_img.jpg\n"
     ]
    }
   ],
   "source": [
    "for img_file, v in patched_data_r.items():\n",
    "    img = img_file.split(\"/\")[-1]\n",
    "    if (patched_data[PATCHED_BASE+img] > v):\n",
    "        print(img_file)"
   ]
  },
  {
   "cell_type": "code",
   "execution_count": 140,
   "id": "a96e63a4",
   "metadata": {},
   "outputs": [
    {
     "data": {
      "text/plain": [
       "(55, 45)"
      ]
     },
     "execution_count": 140,
     "metadata": {},
     "output_type": "execute_result"
    }
   ],
   "source": [
    "patched_people, patched_people_r"
   ]
  },
  {
   "cell_type": "code",
   "execution_count": 184,
   "id": "a5e6c3bf",
   "metadata": {},
   "outputs": [
    {
     "data": {
      "image/jpeg": "[encoded data removed]",
      "text/plain": [
       "<IPython.core.display.Image object>"
      ]
     },
     "execution_count": 184,
     "metadata": {},
     "output_type": "execute_result"
    }
   ],
   "source": [
    "from IPython.display import Image as IpythonImage\n",
    "IpythonImage(filename='/home/rdr2143/inria-adv-dataset/single-failed-v2-pose/patched/73_patched_img.jpg') "
   ]
  },
  {
   "cell_type": "code",
   "execution_count": null,
   "id": "a2d9253c",
   "metadata": {},
   "outputs": [],
   "source": []
  },
  {
   "cell_type": "code",
   "execution_count": null,
   "id": "a6d93f23",
   "metadata": {},
   "outputs": [],
   "source": []
  },
  {
   "cell_type": "code",
   "execution_count": 187,
   "id": "f876c1fa",
   "metadata": {},
   "outputs": [
    {
     "name": "stdout",
     "output_type": "stream",
     "text": [
      "Completed: 0\n",
      "0.7766999 0\n",
      "0.83087915 0\n"
     ]
    },
    {
     "data": {
      "text/plain": [
       "(2,\n",
       " {'/home/rdr2143/inria-adv-dataset/single-failed-v2-pose/patched/73_patched_img.jpg': 1,\n",
       "  '/home/rdr2143/inria-adv-dataset/single-failed-v2-regular/patched/73_patched_img.jpg': 0,\n",
       "  '/home/rdr2143/inria-adv-dataset/single-failed-v2-regular/og/73_og_img.jpg': 1})"
      ]
     },
     "execution_count": 187,
     "metadata": {},
     "output_type": "execute_result"
    }
   ],
   "source": [
    "run_inference_and_get_count(['/home/rdr2143/inria-adv-dataset/single-failed-v2-pose/patched/73_patched_img.jpg',\n",
    "                            '/home/rdr2143/inria-adv-dataset/single-failed-v2-regular/patched/73_patched_img.jpg',\n",
    "                            '/home/rdr2143/inria-adv-dataset/single-failed-v2-regular/og/73_og_img.jpg'])"
   ]
  },
  {
   "cell_type": "code",
   "execution_count": null,
   "id": "5dd3ca82",
   "metadata": {},
   "outputs": [],
   "source": []
  }
 ],
 "metadata": {
  "kernelspec": {
   "display_name": "Python 3",
   "language": "python",
   "name": "python3"
  },
  "language_info": {
   "codemirror_mode": {
    "name": "ipython",
    "version": 3
   },
   "file_extension": ".py",
   "mimetype": "text/x-python",
   "name": "python",
   "nbconvert_exporter": "python",
   "pygments_lexer": "ipython3",
   "version": "3.8.5"
  }
 },
 "nbformat": 4,
 "nbformat_minor": 5
}
